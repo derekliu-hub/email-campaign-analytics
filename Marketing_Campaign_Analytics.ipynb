{
 "cells": [
  {
   "cell_type": "markdown",
   "id": "14c8ac0d",
   "metadata": {},
   "source": [
    "# Marketing Campaign Analytics"
   ]
  },
  {
   "cell_type": "markdown",
   "id": "1ca54f59",
   "metadata": {},
   "source": [
    "In this notebook, I am looking at data obtained from an email marketing campaign serving 3 different email subject lines across a three month period. There are three tables for this data. They are:\n",
    "\n",
    "**UB**: This is the Userbase which contains the customer’s attributes. The fields of the table are:\n",
    "* Customer_ID: The unique ID of the customer\n",
    "* Gender: The gender of the customer. “M” is Male; “F” is Female\n",
    "* Type: The business type of the customer. “B” is Business; “C” is Consumer\n",
    "* Email_Address: The email address of the customer. For security reasons the emails have been masked\n",
    "* Age: The age of the customer\n",
    "* Tenure: The tenure of the customer in months\n",
    "\n",
    "**Sent_Table**: This table contains all the Sent Event logs of this email campaign. The fields of the table are:\n",
    "* Sent_Date: The email sent date\n",
    "* Customer_ID: The unique ID of the customer\n",
    "* SubjectLine_ID: The ID of the subject Line. There are three unique Subject Line IDs\n",
    "\n",
    "**Responded_Table**: This table contains all the email subject lines which were opened by the customers within one week. The fields of the table are:\n",
    "* Responded_Date: The date where the Customer opened the email\n",
    "* Customer_ID: The unique ID of the Customer\n",
    "* SubjectLine_ID: The ID of the subject line"
   ]
  },
  {
   "cell_type": "code",
   "execution_count": 1,
   "id": "d148edb6",
   "metadata": {},
   "outputs": [],
   "source": [
    "import pandas as pd\n",
    "import matplotlib.pyplot as plt\n",
    "from scipy import stats"
   ]
  },
  {
   "cell_type": "markdown",
   "id": "5803d70a",
   "metadata": {},
   "source": [
    "## Exploratory Data Analysis\n",
    "\n",
    "Load in the tables and see what they look like."
   ]
  },
  {
   "cell_type": "code",
   "execution_count": 2,
   "id": "05eac4e4",
   "metadata": {},
   "outputs": [],
   "source": [
    "df_UB = pd.read_csv('UB.csv')\n",
    "df_Sent_Table = pd.read_csv('Sent_Table.csv')\n",
    "df_Responded_Table = pd.read_csv('Responded_Table.csv')"
   ]
  },
  {
   "cell_type": "code",
   "execution_count": 3,
   "id": "75358b4b",
   "metadata": {},
   "outputs": [
    {
     "data": {
      "text/html": [
       "<div>\n",
       "<style scoped>\n",
       "    .dataframe tbody tr th:only-of-type {\n",
       "        vertical-align: middle;\n",
       "    }\n",
       "\n",
       "    .dataframe tbody tr th {\n",
       "        vertical-align: top;\n",
       "    }\n",
       "\n",
       "    .dataframe thead th {\n",
       "        text-align: right;\n",
       "    }\n",
       "</style>\n",
       "<table border=\"1\" class=\"dataframe\">\n",
       "  <thead>\n",
       "    <tr style=\"text-align: right;\">\n",
       "      <th></th>\n",
       "      <th>Customer_ID</th>\n",
       "      <th>Gender</th>\n",
       "      <th>Type</th>\n",
       "      <th>Email_Address</th>\n",
       "      <th>Age</th>\n",
       "      <th>Tenure</th>\n",
       "    </tr>\n",
       "  </thead>\n",
       "  <tbody>\n",
       "    <tr>\n",
       "      <th>0</th>\n",
       "      <td>1</td>\n",
       "      <td>M</td>\n",
       "      <td>C</td>\n",
       "      <td>Mph@msn.com</td>\n",
       "      <td>38</td>\n",
       "      <td>12</td>\n",
       "    </tr>\n",
       "    <tr>\n",
       "      <th>1</th>\n",
       "      <td>2</td>\n",
       "      <td>F</td>\n",
       "      <td>B</td>\n",
       "      <td>SophcYN7381qMe8lRqK@aol.com</td>\n",
       "      <td>37</td>\n",
       "      <td>23</td>\n",
       "    </tr>\n",
       "    <tr>\n",
       "      <th>2</th>\n",
       "      <td>3</td>\n",
       "      <td>F</td>\n",
       "      <td>C</td>\n",
       "      <td>xE@msn.com</td>\n",
       "      <td>32</td>\n",
       "      <td>15</td>\n",
       "    </tr>\n",
       "    <tr>\n",
       "      <th>3</th>\n",
       "      <td>4</td>\n",
       "      <td>M</td>\n",
       "      <td>C</td>\n",
       "      <td>WduR0o0@comcast.net</td>\n",
       "      <td>31</td>\n",
       "      <td>24</td>\n",
       "    </tr>\n",
       "    <tr>\n",
       "      <th>4</th>\n",
       "      <td>5</td>\n",
       "      <td>M</td>\n",
       "      <td>C</td>\n",
       "      <td>walHI9cmWJIBKvy0@aol.com</td>\n",
       "      <td>35</td>\n",
       "      <td>13</td>\n",
       "    </tr>\n",
       "  </tbody>\n",
       "</table>\n",
       "</div>"
      ],
      "text/plain": [
       "   Customer_ID Gender Type                Email_Address  Age  Tenure\n",
       "0            1      M    C                  Mph@msn.com   38      12\n",
       "1            2      F    B  SophcYN7381qMe8lRqK@aol.com   37      23\n",
       "2            3      F    C                   xE@msn.com   32      15\n",
       "3            4      M    C          WduR0o0@comcast.net   31      24\n",
       "4            5      M    C     walHI9cmWJIBKvy0@aol.com   35      13"
      ]
     },
     "execution_count": 3,
     "metadata": {},
     "output_type": "execute_result"
    }
   ],
   "source": [
    "df_UB.head()"
   ]
  },
  {
   "cell_type": "code",
   "execution_count": 4,
   "id": "4cd581b2",
   "metadata": {},
   "outputs": [
    {
     "data": {
      "text/html": [
       "<div>\n",
       "<style scoped>\n",
       "    .dataframe tbody tr th:only-of-type {\n",
       "        vertical-align: middle;\n",
       "    }\n",
       "\n",
       "    .dataframe tbody tr th {\n",
       "        vertical-align: top;\n",
       "    }\n",
       "\n",
       "    .dataframe thead th {\n",
       "        text-align: right;\n",
       "    }\n",
       "</style>\n",
       "<table border=\"1\" class=\"dataframe\">\n",
       "  <thead>\n",
       "    <tr style=\"text-align: right;\">\n",
       "      <th></th>\n",
       "      <th>Sent_Date</th>\n",
       "      <th>Customer_ID</th>\n",
       "      <th>SubjectLine_ID</th>\n",
       "    </tr>\n",
       "  </thead>\n",
       "  <tbody>\n",
       "    <tr>\n",
       "      <th>0</th>\n",
       "      <td>2016-01-28</td>\n",
       "      <td>1413</td>\n",
       "      <td>2</td>\n",
       "    </tr>\n",
       "    <tr>\n",
       "      <th>1</th>\n",
       "      <td>2016-03-02</td>\n",
       "      <td>83889</td>\n",
       "      <td>2</td>\n",
       "    </tr>\n",
       "    <tr>\n",
       "      <th>2</th>\n",
       "      <td>2016-03-09</td>\n",
       "      <td>457832</td>\n",
       "      <td>3</td>\n",
       "    </tr>\n",
       "    <tr>\n",
       "      <th>3</th>\n",
       "      <td>2016-01-20</td>\n",
       "      <td>127772</td>\n",
       "      <td>1</td>\n",
       "    </tr>\n",
       "    <tr>\n",
       "      <th>4</th>\n",
       "      <td>2016-02-03</td>\n",
       "      <td>192123</td>\n",
       "      <td>3</td>\n",
       "    </tr>\n",
       "  </tbody>\n",
       "</table>\n",
       "</div>"
      ],
      "text/plain": [
       "    Sent_Date  Customer_ID  SubjectLine_ID\n",
       "0  2016-01-28         1413               2\n",
       "1  2016-03-02        83889               2\n",
       "2  2016-03-09       457832               3\n",
       "3  2016-01-20       127772               1\n",
       "4  2016-02-03       192123               3"
      ]
     },
     "execution_count": 4,
     "metadata": {},
     "output_type": "execute_result"
    }
   ],
   "source": [
    "df_Sent_Table.head()"
   ]
  },
  {
   "cell_type": "code",
   "execution_count": 5,
   "id": "123fa89e",
   "metadata": {},
   "outputs": [
    {
     "data": {
      "text/html": [
       "<div>\n",
       "<style scoped>\n",
       "    .dataframe tbody tr th:only-of-type {\n",
       "        vertical-align: middle;\n",
       "    }\n",
       "\n",
       "    .dataframe tbody tr th {\n",
       "        vertical-align: top;\n",
       "    }\n",
       "\n",
       "    .dataframe thead th {\n",
       "        text-align: right;\n",
       "    }\n",
       "</style>\n",
       "<table border=\"1\" class=\"dataframe\">\n",
       "  <thead>\n",
       "    <tr style=\"text-align: right;\">\n",
       "      <th></th>\n",
       "      <th>Responded_Date</th>\n",
       "      <th>Customer_ID</th>\n",
       "      <th>SubjectLine_ID</th>\n",
       "    </tr>\n",
       "  </thead>\n",
       "  <tbody>\n",
       "    <tr>\n",
       "      <th>0</th>\n",
       "      <td>2016-01-25</td>\n",
       "      <td>217102</td>\n",
       "      <td>3</td>\n",
       "    </tr>\n",
       "    <tr>\n",
       "      <th>1</th>\n",
       "      <td>2016-03-26</td>\n",
       "      <td>366875</td>\n",
       "      <td>2</td>\n",
       "    </tr>\n",
       "    <tr>\n",
       "      <th>2</th>\n",
       "      <td>2016-03-17</td>\n",
       "      <td>201561</td>\n",
       "      <td>2</td>\n",
       "    </tr>\n",
       "    <tr>\n",
       "      <th>3</th>\n",
       "      <td>2016-01-11</td>\n",
       "      <td>395345</td>\n",
       "      <td>3</td>\n",
       "    </tr>\n",
       "    <tr>\n",
       "      <th>4</th>\n",
       "      <td>2016-01-11</td>\n",
       "      <td>427539</td>\n",
       "      <td>3</td>\n",
       "    </tr>\n",
       "  </tbody>\n",
       "</table>\n",
       "</div>"
      ],
      "text/plain": [
       "  Responded_Date  Customer_ID  SubjectLine_ID\n",
       "0     2016-01-25       217102               3\n",
       "1     2016-03-26       366875               2\n",
       "2     2016-03-17       201561               2\n",
       "3     2016-01-11       395345               3\n",
       "4     2016-01-11       427539               3"
      ]
     },
     "execution_count": 5,
     "metadata": {},
     "output_type": "execute_result"
    }
   ],
   "source": [
    "df_Responded_Table.head()"
   ]
  },
  {
   "cell_type": "code",
   "execution_count": 6,
   "id": "734da8c2",
   "metadata": {},
   "outputs": [
    {
     "name": "stdout",
     "output_type": "stream",
     "text": [
      "<class 'pandas.core.frame.DataFrame'>\n",
      "RangeIndex: 500000 entries, 0 to 499999\n",
      "Data columns (total 6 columns):\n",
      " #   Column         Non-Null Count   Dtype \n",
      "---  ------         --------------   ----- \n",
      " 0   Customer_ID    500000 non-null  int64 \n",
      " 1   Gender         500000 non-null  object\n",
      " 2   Type           500000 non-null  object\n",
      " 3   Email_Address  500000 non-null  object\n",
      " 4   Age            500000 non-null  int64 \n",
      " 5   Tenure         500000 non-null  int64 \n",
      "dtypes: int64(3), object(3)\n",
      "memory usage: 22.9+ MB\n"
     ]
    }
   ],
   "source": [
    "df_UB.info()"
   ]
  },
  {
   "cell_type": "code",
   "execution_count": 7,
   "id": "236ed2be",
   "metadata": {},
   "outputs": [
    {
     "name": "stdout",
     "output_type": "stream",
     "text": [
      "<class 'pandas.core.frame.DataFrame'>\n",
      "RangeIndex: 2476354 entries, 0 to 2476353\n",
      "Data columns (total 3 columns):\n",
      " #   Column          Non-Null Count    Dtype \n",
      "---  ------          --------------    ----- \n",
      " 0   Sent_Date       2476354 non-null  object\n",
      " 1   Customer_ID     2476354 non-null  int64 \n",
      " 2   SubjectLine_ID  2476354 non-null  int64 \n",
      "dtypes: int64(2), object(1)\n",
      "memory usage: 56.7+ MB\n"
     ]
    }
   ],
   "source": [
    "df_Sent_Table.info(show_counts=True)"
   ]
  },
  {
   "cell_type": "code",
   "execution_count": 8,
   "id": "f408e74b",
   "metadata": {},
   "outputs": [
    {
     "name": "stdout",
     "output_type": "stream",
     "text": [
      "<class 'pandas.core.frame.DataFrame'>\n",
      "RangeIndex: 378208 entries, 0 to 378207\n",
      "Data columns (total 3 columns):\n",
      " #   Column          Non-Null Count   Dtype \n",
      "---  ------          --------------   ----- \n",
      " 0   Responded_Date  378208 non-null  object\n",
      " 1   Customer_ID     378208 non-null  int64 \n",
      " 2   SubjectLine_ID  378208 non-null  int64 \n",
      "dtypes: int64(2), object(1)\n",
      "memory usage: 8.7+ MB\n"
     ]
    }
   ],
   "source": [
    "df_Responded_Table.info()"
   ]
  },
  {
   "cell_type": "markdown",
   "id": "d926571a",
   "metadata": {},
   "source": [
    "I can see that there are no missing values. Now I'll compute some summary statistics of the age and tenure attributes and plot histograms of them."
   ]
  },
  {
   "cell_type": "code",
   "execution_count": 9,
   "id": "f61555e4",
   "metadata": {},
   "outputs": [
    {
     "data": {
      "text/plain": [
       "count    500000.000000\n",
       "mean         31.618982\n",
       "std           6.707925\n",
       "min          18.000000\n",
       "25%          27.000000\n",
       "50%          31.000000\n",
       "75%          36.000000\n",
       "max          63.000000\n",
       "Name: Age, dtype: float64"
      ]
     },
     "execution_count": 9,
     "metadata": {},
     "output_type": "execute_result"
    }
   ],
   "source": [
    "df_UB.describe()['Age']"
   ]
  },
  {
   "cell_type": "code",
   "execution_count": 10,
   "id": "3338c586",
   "metadata": {},
   "outputs": [
    {
     "data": {
      "text/plain": [
       "count    500000.000000\n",
       "mean         16.192818\n",
       "std           6.467513\n",
       "min           0.000000\n",
       "25%          11.000000\n",
       "50%          14.000000\n",
       "75%          22.000000\n",
       "max          38.000000\n",
       "Name: Tenure, dtype: float64"
      ]
     },
     "execution_count": 10,
     "metadata": {},
     "output_type": "execute_result"
    }
   ],
   "source": [
    "df_UB.describe()['Tenure']"
   ]
  },
  {
   "cell_type": "code",
   "execution_count": 11,
   "id": "3a5e49ae",
   "metadata": {},
   "outputs": [
    {
     "data": {
      "image/png": "[encoded data removed]",
      "text/plain": [
       "<Figure size 640x480 with 1 Axes>"
      ]
     },
     "metadata": {},
     "output_type": "display_data"
    }
   ],
   "source": [
    "plt.hist(df_UB['Age'])\n",
    "plt.xlabel('Age', fontsize=12)\n",
    "plt.ylabel('Count', fontsize=12)\n",
    "plt.show()"
   ]
  },
  {
   "cell_type": "code",
   "execution_count": 12,
   "id": "7649a0b4",
   "metadata": {},
   "outputs": [
    {
     "data": {
      "image/png": "[encoded data removed]",
      "text/plain": [
       "<Figure size 640x480 with 1 Axes>"
      ]
     },
     "metadata": {},
     "output_type": "display_data"
    }
   ],
   "source": [
    "plt.hist(df_UB['Tenure'])\n",
    "plt.xlabel('Tenure (Months)', fontsize=12)\n",
    "plt.ylabel('Count', fontsize=12)\n",
    "plt.show()"
   ]
  },
  {
   "cell_type": "markdown",
   "id": "4cb9cdec",
   "metadata": {},
   "source": [
    "Looks like the distribution of the age of the customers is approximately normal, and the distribution of tenure is bimodal with one peak around 13 and the other around 25."
   ]
  },
  {
   "cell_type": "markdown",
   "id": "64d5414c",
   "metadata": {},
   "source": [
    "I will now calculate the average age, tenure and the proportion of customers per gender and business type and output that information in a table."
   ]
  },
  {
   "cell_type": "code",
   "execution_count": 13,
   "id": "6233cdc0",
   "metadata": {},
   "outputs": [
    {
     "data": {
      "text/html": [
       "<div>\n",
       "<style scoped>\n",
       "    .dataframe tbody tr th:only-of-type {\n",
       "        vertical-align: middle;\n",
       "    }\n",
       "\n",
       "    .dataframe tbody tr th {\n",
       "        vertical-align: top;\n",
       "    }\n",
       "\n",
       "    .dataframe thead th {\n",
       "        text-align: right;\n",
       "    }\n",
       "</style>\n",
       "<table border=\"1\" class=\"dataframe\">\n",
       "  <thead>\n",
       "    <tr style=\"text-align: right;\">\n",
       "      <th></th>\n",
       "      <th></th>\n",
       "      <th>Average Age</th>\n",
       "      <th>Average Tenure</th>\n",
       "      <th>Proportion of Customers</th>\n",
       "    </tr>\n",
       "    <tr>\n",
       "      <th>Gender</th>\n",
       "      <th>Type</th>\n",
       "      <th></th>\n",
       "      <th></th>\n",
       "      <th></th>\n",
       "    </tr>\n",
       "  </thead>\n",
       "  <tbody>\n",
       "    <tr>\n",
       "      <th rowspan=\"2\" valign=\"top\">F</th>\n",
       "      <th>B</th>\n",
       "      <td>37.969927</td>\n",
       "      <td>16.203791</td>\n",
       "      <td>0.069630</td>\n",
       "    </tr>\n",
       "    <tr>\n",
       "      <th>C</th>\n",
       "      <td>30.032257</td>\n",
       "      <td>16.176706</td>\n",
       "      <td>0.280308</td>\n",
       "    </tr>\n",
       "    <tr>\n",
       "      <th rowspan=\"2\" valign=\"top\">M</th>\n",
       "      <th>B</th>\n",
       "      <td>37.984278</td>\n",
       "      <td>16.174355</td>\n",
       "      <td>0.129758</td>\n",
       "    </tr>\n",
       "    <tr>\n",
       "      <th>C</th>\n",
       "      <td>30.036459</td>\n",
       "      <td>16.204634</td>\n",
       "      <td>0.520304</td>\n",
       "    </tr>\n",
       "  </tbody>\n",
       "</table>\n",
       "</div>"
      ],
      "text/plain": [
       "             Average Age  Average Tenure  Proportion of Customers\n",
       "Gender Type                                                      \n",
       "F      B       37.969927       16.203791                 0.069630\n",
       "       C       30.032257       16.176706                 0.280308\n",
       "M      B       37.984278       16.174355                 0.129758\n",
       "       C       30.036459       16.204634                 0.520304"
      ]
     },
     "execution_count": 13,
     "metadata": {},
     "output_type": "execute_result"
    }
   ],
   "source": [
    "table = df_UB.groupby(['Gender', 'Type']).mean(numeric_only=True).drop(['Customer_ID'], axis=1)\n",
    "table.columns = ['Average Age', 'Average Tenure']\n",
    "table['Proportion of Customers'] = df_UB.groupby(['Gender', 'Type']).count()['Customer_ID'] / len(df_UB)\n",
    "table"
   ]
  },
  {
   "cell_type": "code",
   "execution_count": 14,
   "id": "233de5ba",
   "metadata": {},
   "outputs": [
    {
     "data": {
      "image/png": "[encoded data removed]",
      "text/plain": [
       "<Figure size 640x480 with 1 Axes>"
      ]
     },
     "metadata": {},
     "output_type": "display_data"
    }
   ],
   "source": [
    "labels = ['Female Business', 'Female Consumer', 'Male Business', 'Male Consumer']\n",
    "sizes = table['Proportion of Customers']\n",
    "fig, ax = plt.subplots()\n",
    "ax.pie(sizes, labels=labels, autopct='%1.2f%%')\n",
    "plt.show()"
   ]
  },
  {
   "cell_type": "markdown",
   "id": "9642e70b",
   "metadata": {},
   "source": [
    "The code below calculates the number of customers per email domain."
   ]
  },
  {
   "cell_type": "code",
   "execution_count": 15,
   "id": "123f62ad",
   "metadata": {},
   "outputs": [
    {
     "data": {
      "text/html": [
       "<div>\n",
       "<style scoped>\n",
       "    .dataframe tbody tr th:only-of-type {\n",
       "        vertical-align: middle;\n",
       "    }\n",
       "\n",
       "    .dataframe tbody tr th {\n",
       "        vertical-align: top;\n",
       "    }\n",
       "\n",
       "    .dataframe thead th {\n",
       "        text-align: right;\n",
       "    }\n",
       "</style>\n",
       "<table border=\"1\" class=\"dataframe\">\n",
       "  <thead>\n",
       "    <tr style=\"text-align: right;\">\n",
       "      <th></th>\n",
       "      <th>Number of Customers</th>\n",
       "      <th>Proportion</th>\n",
       "    </tr>\n",
       "    <tr>\n",
       "      <th>Email Domain</th>\n",
       "      <th></th>\n",
       "      <th></th>\n",
       "    </tr>\n",
       "  </thead>\n",
       "  <tbody>\n",
       "    <tr>\n",
       "      <th>aol.com</th>\n",
       "      <td>49975</td>\n",
       "      <td>0.099950</td>\n",
       "    </tr>\n",
       "    <tr>\n",
       "      <th>comcast.net</th>\n",
       "      <td>34820</td>\n",
       "      <td>0.069640</td>\n",
       "    </tr>\n",
       "    <tr>\n",
       "      <th>gmail.com</th>\n",
       "      <td>150266</td>\n",
       "      <td>0.300532</td>\n",
       "    </tr>\n",
       "    <tr>\n",
       "      <th>hotmail.com</th>\n",
       "      <td>125482</td>\n",
       "      <td>0.250964</td>\n",
       "    </tr>\n",
       "    <tr>\n",
       "      <th>msn.com</th>\n",
       "      <td>74626</td>\n",
       "      <td>0.149252</td>\n",
       "    </tr>\n",
       "    <tr>\n",
       "      <th>yahoo.com</th>\n",
       "      <td>64831</td>\n",
       "      <td>0.129662</td>\n",
       "    </tr>\n",
       "  </tbody>\n",
       "</table>\n",
       "</div>"
      ],
      "text/plain": [
       "              Number of Customers  Proportion\n",
       "Email Domain                                 \n",
       "aol.com                     49975    0.099950\n",
       "comcast.net                 34820    0.069640\n",
       "gmail.com                  150266    0.300532\n",
       "hotmail.com                125482    0.250964\n",
       "msn.com                     74626    0.149252\n",
       "yahoo.com                   64831    0.129662"
      ]
     },
     "execution_count": 15,
     "metadata": {},
     "output_type": "execute_result"
    }
   ],
   "source": [
    "df_UB['Email Domain'] = df_UB['Email_Address'].str.extract('@(.*)') #extract email domains and add them in a separate column to the df\n",
    "email = df_UB.groupby(['Email Domain']).count()[['Customer_ID']] #get the count of each email domain\n",
    "email.columns = ['Number of Customers']\n",
    "email['Proportion'] = email['Number of Customers'] / len(df_UB)\n",
    "email"
   ]
  },
  {
   "cell_type": "markdown",
   "id": "cccf53ae",
   "metadata": {},
   "source": [
    "I am also interested in the average number of emails sent per weekday."
   ]
  },
  {
   "cell_type": "code",
   "execution_count": 16,
   "id": "81156572",
   "metadata": {},
   "outputs": [
    {
     "data": {
      "text/html": [
       "<div>\n",
       "<style scoped>\n",
       "    .dataframe tbody tr th:only-of-type {\n",
       "        vertical-align: middle;\n",
       "    }\n",
       "\n",
       "    .dataframe tbody tr th {\n",
       "        vertical-align: top;\n",
       "    }\n",
       "\n",
       "    .dataframe thead th {\n",
       "        text-align: right;\n",
       "    }\n",
       "</style>\n",
       "<table border=\"1\" class=\"dataframe\">\n",
       "  <thead>\n",
       "    <tr style=\"text-align: right;\">\n",
       "      <th></th>\n",
       "      <th>Average Number of Emails Sent</th>\n",
       "    </tr>\n",
       "    <tr>\n",
       "      <th>Weekday</th>\n",
       "      <th></th>\n",
       "    </tr>\n",
       "  </thead>\n",
       "  <tbody>\n",
       "    <tr>\n",
       "      <th>Monday</th>\n",
       "      <td>28460.333333</td>\n",
       "    </tr>\n",
       "    <tr>\n",
       "      <th>Tuesday</th>\n",
       "      <td>28468.333333</td>\n",
       "    </tr>\n",
       "    <tr>\n",
       "      <th>Wednesday</th>\n",
       "      <td>28386.666667</td>\n",
       "    </tr>\n",
       "    <tr>\n",
       "      <th>Thursday</th>\n",
       "      <td>28570.166667</td>\n",
       "    </tr>\n",
       "    <tr>\n",
       "      <th>Friday</th>\n",
       "      <td>28424.000000</td>\n",
       "    </tr>\n",
       "  </tbody>\n",
       "</table>\n",
       "</div>"
      ],
      "text/plain": [
       "           Average Number of Emails Sent\n",
       "Weekday                                 \n",
       "Monday                      28460.333333\n",
       "Tuesday                     28468.333333\n",
       "Wednesday                   28386.666667\n",
       "Thursday                    28570.166667\n",
       "Friday                      28424.000000"
      ]
     },
     "execution_count": 16,
     "metadata": {},
     "output_type": "execute_result"
    }
   ],
   "source": [
    "date_count = df_Sent_Table.groupby(['Sent_Date'], as_index = False).count() #get how many emails were sent by each specific date\n",
    "date_count['Sent_Date'] = pd.to_datetime(date_count['Sent_Date']) #convert the sent date column to the datetime data type\n",
    "date_count['Weekday'] = date_count['Sent_Date'].dt.day_name() #create column classifying each date with the day of the week\n",
    "\n",
    "avg_email = date_count.groupby(['Weekday']).mean(numeric_only=True)[['Customer_ID']] #get average number of emails sent by day of the week\n",
    "avg_email.columns = ['Average Number of Emails Sent']\n",
    "avg_email = avg_email.drop(['Saturday', 'Sunday'])\n",
    "avg_email = avg_email.reindex(['Monday', 'Tuesday', 'Wednesday', 'Thursday', 'Friday'])\n",
    "avg_email"
   ]
  },
  {
   "cell_type": "markdown",
   "id": "4b53d0d9",
   "metadata": {},
   "source": [
    "## Analyzing the Open Rate\n",
    "\n",
    "In this part of the notebook, I want to look at the rate different kinds of customers open the emails and the rate emails with different subject lines are opened.\n",
    "\n",
    "A response is valid when a customer opens the corresponding subject line ID at the sent date (i.e. **Sent_Date** equals **Responded_Date**, **Customer_ID** of Sent Table equals **Customer_ID** of Responded Table, and **SubjectLine_ID** of Sent Table equals **SubjectLine_ID** of Responded Table).\n",
    "\n",
    "The open rate is defined as the number of valid email responses over emails sent."
   ]
  },
  {
   "cell_type": "markdown",
   "id": "a135e7a8",
   "metadata": {},
   "source": [
    "Open rate by SubjectLine_ID."
   ]
  },
  {
   "cell_type": "code",
   "execution_count": 17,
   "id": "37b0dc4d",
   "metadata": {},
   "outputs": [
    {
     "data": {
      "text/html": [
       "<div>\n",
       "<style scoped>\n",
       "    .dataframe tbody tr th:only-of-type {\n",
       "        vertical-align: middle;\n",
       "    }\n",
       "\n",
       "    .dataframe tbody tr th {\n",
       "        vertical-align: top;\n",
       "    }\n",
       "\n",
       "    .dataframe thead th {\n",
       "        text-align: right;\n",
       "    }\n",
       "</style>\n",
       "<table border=\"1\" class=\"dataframe\">\n",
       "  <thead>\n",
       "    <tr style=\"text-align: right;\">\n",
       "      <th></th>\n",
       "      <th>Open Rate</th>\n",
       "    </tr>\n",
       "    <tr>\n",
       "      <th>SubjectLine_ID</th>\n",
       "      <th></th>\n",
       "    </tr>\n",
       "  </thead>\n",
       "  <tbody>\n",
       "    <tr>\n",
       "      <th>1</th>\n",
       "      <td>0.096236</td>\n",
       "    </tr>\n",
       "    <tr>\n",
       "      <th>2</th>\n",
       "      <td>0.095621</td>\n",
       "    </tr>\n",
       "    <tr>\n",
       "      <th>3</th>\n",
       "      <td>0.085326</td>\n",
       "    </tr>\n",
       "  </tbody>\n",
       "</table>\n",
       "</div>"
      ],
      "text/plain": [
       "                Open Rate\n",
       "SubjectLine_ID           \n",
       "1                0.096236\n",
       "2                0.095621\n",
       "3                0.085326"
      ]
     },
     "execution_count": 17,
     "metadata": {},
     "output_type": "execute_result"
    }
   ],
   "source": [
    "responses = df_Sent_Table.merge(df_Responded_Table, how='left', left_on=['Sent_Date', 'Customer_ID', 'SubjectLine_ID'], right_on=['Responded_Date', 'Customer_ID', 'SubjectLine_ID'])\n",
    "responses = responses.drop_duplicates() #responded table has duplicate responses that can be dropped\n",
    "responses['Valid'] = responses['Responded_Date'].notnull() #create true or false column saying if an email had a valid response\n",
    "\n",
    "subject_rate = responses.groupby(['SubjectLine_ID']).mean(numeric_only=True)[['Valid']]\n",
    "subject_rate.columns = ['Open Rate']\n",
    "subject_rate"
   ]
  },
  {
   "cell_type": "code",
   "execution_count": 18,
   "id": "6e1bd40e",
   "metadata": {},
   "outputs": [
    {
     "data": {
      "text/plain": [
       "KruskalResult(statistic=739.2933740089005, pvalue=2.9139599613849197e-161)"
      ]
     },
     "execution_count": 18,
     "metadata": {},
     "output_type": "execute_result"
    }
   ],
   "source": [
    "s1 = responses[responses['SubjectLine_ID'] == 1]['Valid']\n",
    "s2 = responses[responses['SubjectLine_ID'] == 2]['Valid']\n",
    "s3 = responses[responses['SubjectLine_ID'] == 3]['Valid']\n",
    "stats.kruskal(s1, s2, s3)"
   ]
  },
  {
   "cell_type": "markdown",
   "id": "2dd78f93",
   "metadata": {},
   "source": [
    "I performed a Kruskall-Wallis test to determine if the open rate differs between any of\n",
    "the three Subject Line IDs. The resulting test statistic was about 739 which has a\n",
    "p-value of well below 0.05. As such, we reject the null hypothesis that all three types of\n",
    "emails have the same open rate. The data suggests that at least one Subject Line ID\n",
    "has a different open rate from the others."
   ]
  },
  {
   "cell_type": "markdown",
   "id": "abb60846",
   "metadata": {},
   "source": [
    "Open rate by type of customer."
   ]
  },
  {
   "cell_type": "code",
   "execution_count": 19,
   "id": "ef38ed10",
   "metadata": {},
   "outputs": [
    {
     "data": {
      "text/html": [
       "<div>\n",
       "<style scoped>\n",
       "    .dataframe tbody tr th:only-of-type {\n",
       "        vertical-align: middle;\n",
       "    }\n",
       "\n",
       "    .dataframe tbody tr th {\n",
       "        vertical-align: top;\n",
       "    }\n",
       "\n",
       "    .dataframe thead th {\n",
       "        text-align: right;\n",
       "    }\n",
       "</style>\n",
       "<table border=\"1\" class=\"dataframe\">\n",
       "  <thead>\n",
       "    <tr style=\"text-align: right;\">\n",
       "      <th></th>\n",
       "      <th>Open Rate</th>\n",
       "    </tr>\n",
       "    <tr>\n",
       "      <th>Type</th>\n",
       "      <th></th>\n",
       "    </tr>\n",
       "  </thead>\n",
       "  <tbody>\n",
       "    <tr>\n",
       "      <th>B</th>\n",
       "      <td>0.101392</td>\n",
       "    </tr>\n",
       "    <tr>\n",
       "      <th>C</th>\n",
       "      <td>0.090152</td>\n",
       "    </tr>\n",
       "  </tbody>\n",
       "</table>\n",
       "</div>"
      ],
      "text/plain": [
       "      Open Rate\n",
       "Type           \n",
       "B      0.101392\n",
       "C      0.090152"
      ]
     },
     "execution_count": 19,
     "metadata": {},
     "output_type": "execute_result"
    }
   ],
   "source": [
    "UB_responses = responses.merge(df_UB, how='left', on='Customer_ID')\n",
    "\n",
    "type_rate = UB_responses.groupby(['Type']).mean(numeric_only=True)[['Valid']]\n",
    "type_rate.columns = ['Open Rate']\n",
    "type_rate"
   ]
  },
  {
   "cell_type": "markdown",
   "id": "ca07917b",
   "metadata": {},
   "source": [
    "Line chart showing the open rate across ages for the different types and genders of customer."
   ]
  },
  {
   "cell_type": "code",
   "execution_count": 20,
   "id": "afd60d35",
   "metadata": {},
   "outputs": [
    {
     "data": {
      "image/png": "[encoded data removed]",
      "text/plain": [
       "<Figure size 640x480 with 1 Axes>"
      ]
     },
     "metadata": {},
     "output_type": "display_data"
    }
   ],
   "source": [
    "age_type_gender = UB_responses.groupby(['Age', 'Type', 'Gender']).mean(numeric_only=True)[['Valid']]\n",
    "age_type_gender.reset_index(inplace=True)\n",
    "\n",
    "BF = age_type_gender[(age_type_gender['Type'] == 'B') & (age_type_gender['Gender'] == 'F')]\n",
    "BM = age_type_gender[(age_type_gender['Type'] == 'B') & (age_type_gender['Gender'] == 'M')]\n",
    "CF = age_type_gender[(age_type_gender['Type'] == 'C') & (age_type_gender['Gender'] == 'F')]\n",
    "CM = age_type_gender[(age_type_gender['Type'] == 'C') & (age_type_gender['Gender'] == 'M')]\n",
    "\n",
    "plt.plot(BF['Age'], BF['Valid'], color='red', label = 'Female, Business')\n",
    "plt.plot(BM['Age'], BM['Valid'], color='blue', label = 'Male, Business')\n",
    "plt.plot(CF['Age'], CF['Valid'], color='green', label = 'Female, Consumer')\n",
    "plt.plot(CM['Age'], CM['Valid'], color='purple', label = 'Male, Consumer')\n",
    "plt.legend()\n",
    "plt.title('Age Vs Open Rate By Gender And Type', fontsize=12)\n",
    "plt.xlabel('Age (Years)', fontsize=12)\n",
    "plt.ylabel('Open Rate', fontsize=12)\n",
    "plt.show()"
   ]
  }
 ],
 "metadata": {
  "kernelspec": {
   "display_name": "Python 3 (ipykernel)",
   "language": "python",
   "name": "python3"
  },
  "language_info": {
   "codemirror_mode": {
    "name": "ipython",
    "version": 3
   },
   "file_extension": ".py",
   "mimetype": "text/x-python",
   "name": "python",
   "nbconvert_exporter": "python",
   "pygments_lexer": "ipython3",
   "version": "3.10.9"
  }
 },
 "nbformat": 4,
 "nbformat_minor": 5
}
